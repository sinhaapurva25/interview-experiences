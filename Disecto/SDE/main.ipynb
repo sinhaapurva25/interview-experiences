{
 "cells": [
  {
   "cell_type": "code",
   "execution_count": 1,
   "metadata": {},
   "outputs": [
    {
     "name": "stdout",
     "output_type": "stream",
     "text": [
      "Awww it could not connect!\n"
     ]
    },
    {
     "name": "stderr",
     "output_type": "stream",
     "text": [
      "C:\\Users\\sinha\\AppData\\Local\\Temp\\ipykernel_14668\\3509851505.py:25: DeprecationWarning: The 'body' parameter is deprecated for the 'index' API and will be removed in a future version. Instead use the 'document' parameter. See https://github.com/elastic/elasticsearch-py/issues/1698 for more information\n",
      "  outcome = es_object.index(index=index, doc_type='_doc', body=json.dumps(data))\n"
     ]
    },
    {
     "name": "stdout",
     "output_type": "stream",
     "text": [
      "Error in indexing data\n",
      "ConnectionError(<urllib3.connection.HTTPConnection object at 0x00000257575E0A60>: Failed to establish a new connection: [WinError 10061] No connection could be made because the target machine actively refused it) caused by: NewConnectionError(<urllib3.connection.HTTPConnection object at 0x00000257575E0A60>: Failed to establish a new connection: [WinError 10061] No connection could be made because the target machine actively refused it)\n",
      "False\n"
     ]
    }
   ],
   "source": [
    "# import os\n",
    "# import elasticsearch\n",
    "# print(elasticsearch.__version__)\n",
    "# for _ in os.listdir(r'search-backend-vaex_testing-docs-sample_data\\docs\\sample_data'):\n",
    "#     print(_)\n",
    "import json\n",
    "\n",
    "from elasticsearch import Elasticsearch\n",
    "\n",
    "\n",
    "def connect_elasticsearch():\n",
    "    _es = None\n",
    "    _es = Elasticsearch([{'host': 'localhost', 'port': 9200}])\n",
    "    if _es.ping():\n",
    "        print('Yay Connected')\n",
    "    else:\n",
    "        print('Awww it could not connect!')\n",
    "    return _es\n",
    "\n",
    "\n",
    "def store_record(es_object, index, data):\n",
    "    is_stored = True\n",
    "\n",
    "    try:\n",
    "        outcome = es_object.index(index=index, doc_type='_doc', body=json.dumps(data))\n",
    "        print(outcome)\n",
    "    except Exception as ex:\n",
    "        print('Error in indexing data')\n",
    "        print(str(ex))\n",
    "        is_stored = False\n",
    "    finally:\n",
    "        return is_stored\n",
    "\n",
    "\n",
    "if __name__ == '__main__':\n",
    "    data = {\n",
    "        \"NAME\": \"ES\",\n",
    "        \"DOJ\": \"2012-04-02\"\n",
    "    }\n",
    "    es = connect_elasticsearch()\n",
    "    r = store_record(es, 'company', data)\n",
    "    print(r)"
   ]
  }
 ],
 "metadata": {
  "interpreter": {
   "hash": "ad75d77415e4b48034d8e80550c81c5073661de8bfd84abeb56435431a9d001a"
  },
  "kernelspec": {
   "display_name": "Python 3.10.2 64-bit (windows store)",
   "language": "python",
   "name": "python3"
  },
  "language_info": {
   "codemirror_mode": {
    "name": "ipython",
    "version": 3
   },
   "file_extension": ".py",
   "mimetype": "text/x-python",
   "name": "python",
   "nbconvert_exporter": "python",
   "pygments_lexer": "ipython3",
   "version": "3.10.2"
  },
  "orig_nbformat": 4
 },
 "nbformat": 4,
 "nbformat_minor": 2
}
